{
 "cells": [
  {
   "cell_type": "markdown",
   "metadata": {},
   "source": [
    "# Machine Learning Workshop\n",
    "## Iris flower classification exercise"
   ]
  },
  {
   "cell_type": "code",
   "execution_count": null,
   "metadata": {},
   "outputs": [],
   "source": [
    "import pandas as pd\n",
    "import numpy as np\n",
    "import seaborn as sns"
   ]
  },
  {
   "cell_type": "markdown",
   "metadata": {},
   "source": [
    "### Load data\n",
    "1) Use function pandas.read_csv() <br>\n",
    "2) Shuffle the data"
   ]
  },
  {
   "cell_type": "code",
   "execution_count": null,
   "metadata": {},
   "outputs": [],
   "source": [
    "data_path = 'data/iris.csv'\n"
   ]
  },
  {
   "cell_type": "markdown",
   "metadata": {},
   "source": [
    "### Data Exploration"
   ]
  },
  {
   "cell_type": "markdown",
   "metadata": {},
   "source": [
    "1) Check if values are missing (Hint: df.counts())<br>\n",
    "2) Check how many samples in total and how many samples of each class (Hint: df.value_counts())<br>\n",
    "3) Look at correlations between samples and labels (Hint: use sns.pairplot())<br>"
   ]
  },
  {
   "cell_type": "code",
   "execution_count": null,
   "metadata": {},
   "outputs": [],
   "source": []
  },
  {
   "cell_type": "markdown",
   "metadata": {},
   "source": [
    "### Modelling & Evaluation"
   ]
  },
  {
   "cell_type": "markdown",
   "metadata": {},
   "source": [
    "1) Split data set into train and test set<br>\n",
    "2) Train a model (Hint: start with RandomForestClassifier(), use model.fit() for training)<br>\n",
    "3) Make predictions (Hint: model.predict())<br>\n",
    "4) Calculate the accuracy of the predictions (Hint: use accuracy_score(), or calculate it manually using numpy)<br>\n",
    "5) Play around with the Hyperparameters of the model and check if the accuracy improves<br>\n",
    "6) Implement Cross Validation & automated Hyperparameter-Search (Hint: cross_val_score(), GridSearchCV())<br>\n",
    "https://scikit-learn.org/stable/modules/generated/sklearn.model_selection.cross_val_score.html<br>\n",
    "https://scikit-learn.org/stable/modules/generated/sklearn.model_selection.GridSearchCV.html\n"
   ]
  },
  {
   "cell_type": "code",
   "execution_count": null,
   "metadata": {},
   "outputs": [],
   "source": []
  }
 ],
 "metadata": {
  "kernelspec": {
   "display_name": "ml-workshop-env",
   "language": "python",
   "name": "ml-workshop-env"
  },
  "language_info": {
   "codemirror_mode": {
    "name": "ipython",
    "version": 3
   },
   "file_extension": ".py",
   "mimetype": "text/x-python",
   "name": "python",
   "nbconvert_exporter": "python",
   "pygments_lexer": "ipython3",
   "version": "3.7.3"
  }
 },
 "nbformat": 4,
 "nbformat_minor": 2
}
