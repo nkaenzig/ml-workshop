{
 "cells": [
  {
   "cell_type": "markdown",
   "metadata": {},
   "source": [
    "# Machine Learning Workshop\n",
    "## Python Exercises\n",
    "### Jupyter Notebook shortcuts\n",
    "<h4>In edit & command mode:</h4><br>\n",
    "Ctrl + Enter : run selected cell<br>\n",
    "Shift + Enter : run the current cell, select below<br>\n",
    "Alt + Enter : run the current cell, insert new cell below<br>\n",
    "Ctrl + S : save file<br>\n",
    "\n",
    "<h4>In command mode (press Esc to activate -> cell border turns from green to blue):</h4> <br>\n",
    "dd : delete current (If you delete a cell by mistake: Edit -> Undo Delete Cells)<br>\n",
    "b : insert new cell below<br>\n",
    "a: insert new cell above<br>\n"
   ]
  },
  {
   "cell_type": "markdown",
   "metadata": {},
   "source": [
    "### Warmup"
   ]
  },
  {
   "cell_type": "markdown",
   "metadata": {},
   "source": [
    "<b> 1a) </b> Imprima los números del 0 al 100 que son divisibles por 7 <br>"
   ]
  },
  {
   "cell_type": "code",
   "execution_count": null,
   "metadata": {},
   "outputs": [],
   "source": []
  },
  {
   "cell_type": "markdown",
   "metadata": {},
   "source": [
    "<b> 1b) </b> Imprima los números del -5 al 100 que son divisibles por 5 pero no por 3<br>"
   ]
  },
  {
   "cell_type": "code",
   "execution_count": null,
   "metadata": {},
   "outputs": [],
   "source": []
  },
  {
   "cell_type": "markdown",
   "metadata": {},
   "source": [
    "<b> 1c) </b> Cree una lista con 1 millón de elementos, recorra todos los elementos en un ciclo \"for\" y mida el tiempo que lleva. (<i>Hint: https://stackoverflow.com/a/1557584/8725045 </i>) <br>"
   ]
  },
  {
   "cell_type": "code",
   "execution_count": null,
   "metadata": {},
   "outputs": [],
   "source": []
  },
  {
   "cell_type": "markdown",
   "metadata": {},
   "source": [
    "<b> 1d) </b> Use string.format() para imprimir un número decimal dentro de una oración y redondearlo a dos dígitos. <br>\n",
    "Ejemplo: decimal = 2.42664 -> salida: \"El número 2.43 se redondeó a dos dígitos\""
   ]
  },
  {
   "cell_type": "code",
   "execution_count": null,
   "metadata": {},
   "outputs": [],
   "source": []
  },
  {
   "cell_type": "markdown",
   "metadata": {},
   "source": [
    "### Lists, Sets & Dictionaries"
   ]
  },
  {
   "cell_type": "markdown",
   "metadata": {},
   "source": [
    "<b> 2a) </b> Copie la lista <i> a_list </i> en una lista llamada <i> b_list </i> y cambie el último elemento de la lista a -5. ¡Asegúrese de que la lista <i> a_list </i> no cambie! <br>"
   ]
  },
  {
   "cell_type": "code",
   "execution_count": null,
   "metadata": {},
   "outputs": [],
   "source": [
    "a_list = [1, 2, 3, 4, 5]"
   ]
  },
  {
   "cell_type": "markdown",
   "metadata": {},
   "source": [
    "<b> 2b) </b> Sea i, j = 0, ..., 100. <br>\n",
    "Genere una lista que contenga todas las tuplas (i, j) posibles: [(0,0), (0,1), ... (1,0), (1,1), ... (100,100)] <br>"
   ]
  },
  {
   "cell_type": "code",
   "execution_count": null,
   "metadata": {},
   "outputs": [],
   "source": []
  },
  {
   "cell_type": "markdown",
   "metadata": {},
   "source": [
    "<b> 2c) </b> Escriba una función <code>get_index_of_longest_word</code> que tome una lista de strings como argumento y devuelva el índice del string más largo de la lista. <br>\n",
    "Ejemplo: <code>get_index_of_longest_word([\"a\", \"la cadena más larga\", \"vvva\"])</code> devuelve 1 <br>"
   ]
  },
  {
   "cell_type": "code",
   "execution_count": null,
   "metadata": {},
   "outputs": [],
   "source": [
    "c_list = [\"a\", \"the longest string\", \"vvva\"]"
   ]
  },
  {
   "cell_type": "markdown",
   "metadata": {},
   "source": [
    "<b> 2d) </b> ¡Haz lo mismo que en la Tarea 2c), pero sin usar Loops! (<i>Hint: use map() http://book.pythontips.com/en/latest/map_filter.html , y list.index() https://docs.python.org/3/tutorial/datastructures.html </i>) <br>"
   ]
  },
  {
   "cell_type": "code",
   "execution_count": null,
   "metadata": {},
   "outputs": [],
   "source": []
  },
  {
   "cell_type": "markdown",
   "metadata": {},
   "source": [
    "<b> 2e) </b> Escribe una función <code>flatten_list()</code> que toma una lista de listas como argumento y la aplana. <br>\n",
    "E.g. <code>flatten_list([[1,2], [3,4], [5,6,7]])</code> devuelve [1,2,3,4,5,6,7]. <br>"
   ]
  },
  {
   "cell_type": "code",
   "execution_count": null,
   "metadata": {},
   "outputs": [],
   "source": []
  },
  {
   "cell_type": "markdown",
   "metadata": {},
   "source": [
    "<b> 2f) </b> Escriba una función <code>get_sorted_unique_elements()</code> que tome una lista como argumento, devuelva una lista ordenada en orden descendente y sin valores duplicados. (<i>Hint:</i> use <code>set()</code> y <code>sorted()</code>) <br>"
   ]
  },
  {
   "cell_type": "code",
   "execution_count": null,
   "metadata": {},
   "outputs": [],
   "source": [
    "f_list = [1, 66, 2, 66, 1, 3, 6, 11, 11, 11]"
   ]
  },
  {
   "cell_type": "markdown",
   "metadata": {},
   "source": [
    "<b> 2g) </b> Cree un diccionario y luego escriba una función que recorra el diccionario e imprima todos los pares clave-valor <br>"
   ]
  },
  {
   "cell_type": "code",
   "execution_count": null,
   "metadata": {},
   "outputs": [],
   "source": []
  },
  {
   "cell_type": "markdown",
   "metadata": {},
   "source": [
    "<b> 2h) </b> Escribe una función que toma un diccionario como argumento y devuelve una lista de todas las claves que comienzan con la letra 'b' (minúsculas y mayúsculas) <br>"
   ]
  },
  {
   "cell_type": "code",
   "execution_count": null,
   "metadata": {},
   "outputs": [],
   "source": []
  },
  {
   "cell_type": "markdown",
   "metadata": {},
   "source": [
    "### File I/O"
   ]
  },
  {
   "cell_type": "code",
   "execution_count": 1,
   "metadata": {},
   "outputs": [],
   "source": [
    "houses_path = '../Datasets/house_prices.csv'\n",
    "shakespeare_path = '../Datasets/shakespeare.txt'"
   ]
  },
  {
   "cell_type": "markdown",
   "metadata": {},
   "source": [
    "<b> 3a) </b> Lea el archivo <i> house_prices.csv </i> línea por línea y guardelas en un nuevo archivo <i> house_price_copy.csv </i> <br>"
   ]
  },
  {
   "cell_type": "code",
   "execution_count": null,
   "metadata": {},
   "outputs": [],
   "source": []
  },
  {
   "cell_type": "markdown",
   "metadata": {},
   "source": [
    "<b> 3b) </b> Lea el archivo <i> house_prices.csv </i> línea por línea, y guarde solo las filas donde la columna <i> YearBuilt </i> sea mayor o igual a 2000 <i> en un nuevo archivo house_prices_2000.csv </i> <br>"
   ]
  },
  {
   "cell_type": "code",
   "execution_count": null,
   "metadata": {},
   "outputs": [],
   "source": []
  },
  {
   "cell_type": "markdown",
   "metadata": {},
   "source": [
    "<b> 3c) </b> Lea el archivo <i> house_prices.csv </i> línea por línea, y guardelas sin las columnas [<i>Id, MiscFeature </i>] en un nuevo archivo <i> house_prices_drop.csv </i> <br>(<i>Hint: Cree primero un diccionario con el mapping column_name -> número de columna. Use las funciones del, split(), join()) </i><br>"
   ]
  },
  {
   "cell_type": "code",
   "execution_count": null,
   "metadata": {},
   "outputs": [],
   "source": []
  },
  {
   "cell_type": "markdown",
   "metadata": {},
   "source": [
    "<b> 3d) </b> Lea el archivo <i> house_prices.csv </i> línea por línea y guarde todos los valores que ocurran en la columna <i>Neighborhood</i> en una Lista (sin duplicados) (<i>Hint: set() </i>) <br>"
   ]
  },
  {
   "cell_type": "code",
   "execution_count": null,
   "metadata": {},
   "outputs": [],
   "source": []
  },
  {
   "cell_type": "markdown",
   "metadata": {},
   "source": [
    "<b> 3e) </b> Lea el archivo <i> shakespeare.txt </i> y cuente el número de palabras (<i>Hint: Use la función dada <code>remove_punctuation()</code> para eliminar la puntuación y caracteres especiales </i>) <br>"
   ]
  },
  {
   "cell_type": "code",
   "execution_count": null,
   "metadata": {},
   "outputs": [],
   "source": [
    "def remove_punctuation(text):\n",
    "    import re\n",
    "    pattern = r'[^a-zA-z\\s]'\n",
    "    text = re.sub(pattern, '', text) # This removes all characters that aren't letters\n",
    "    text = text.lower() #  Lowercase\n",
    "    return text\n",
    "\n",
    "print(remove_punctuation(\"...UN EjeMplo###@ ;;\"))"
   ]
  },
  {
   "cell_type": "markdown",
   "metadata": {},
   "source": [
    "<b> 3f) </b> Lea el archivo <i> shakespeare.txt </i> y cuente la aparición de cada palabra. (<i>Hint: Use diccionarios o la clase Counter para contar las palabras: https://docs.python.org/3.7/library/collections.html#collections.Counter) </i> <br>"
   ]
  },
  {
   "cell_type": "code",
   "execution_count": null,
   "metadata": {},
   "outputs": [],
   "source": []
  },
  {
   "cell_type": "markdown",
   "metadata": {},
   "source": [
    "### Bonus exercises"
   ]
  },
  {
   "cell_type": "markdown",
   "metadata": {},
   "source": [
    "<b> 4a) </b> Escriba una función <code>reverse_dict()</code> que tome un diccionario como argumento e invierta sus claves y valores. ¿Tambien considere el caso donde hay claves duplicados! <br>\n",
    "Ejemplo: <code> reverse_dict ({\"CA\": \"US\", \"NY\": \"US\", \"ZH\": \"CH\"})</code>  => {\"US\": [\"CA\", \"NY\"], \"CH\": [\"ZH\"]}<br>"
   ]
  },
  {
   "cell_type": "code",
   "execution_count": null,
   "metadata": {},
   "outputs": [],
   "source": []
  },
  {
   "cell_type": "markdown",
   "metadata": {},
   "source": [
    "<b> 4b) </b> Escriba una función <code>average()</code> que tome una lista de números como argumento y calcule su media. (https://en.wikipedia.org/wiki/Arithmetic_mean) . Hazlo primero con un ciclo y luego implementa una segunda versión sin ciclo. <br>"
   ]
  },
  {
   "cell_type": "code",
   "execution_count": null,
   "metadata": {},
   "outputs": [],
   "source": []
  },
  {
   "cell_type": "markdown",
   "metadata": {},
   "source": [
    "<b> 4c) </b> Defina una nueva clase <code>Persona</code> con las propiedades <code>nombre, edad</code>. Cree una instancia de objeto de esta clase y luego conviértala a un JSON string. <br> <i> Ejemplo:</i> <code>'{\"name\": \"Mayra\", \"age\": 21}'</code> <br>"
   ]
  },
  {
   "cell_type": "code",
   "execution_count": null,
   "metadata": {},
   "outputs": [],
   "source": []
  },
  {
   "cell_type": "markdown",
   "metadata": {},
   "source": [
    "<b> 4d) </b> Escribe una función <code>safe_division(a, b)</code> que tome dos números como argumentos. La función debe capturar divisiones por (b = 0) y devolver <code>None</code> en este caso, en lugar de arrojar un error. (<i>Hint: Use</i> <code>try, catch </code>) <br>"
   ]
  },
  {
   "cell_type": "code",
   "execution_count": null,
   "metadata": {},
   "outputs": [],
   "source": []
  },
  {
   "cell_type": "markdown",
   "metadata": {},
   "source": [
    "<b> 4e) </b> Escriba una función <code>vector_multiplication()</code> que tome dos listas de números (vectores) y las multiplique elemento por elemento. Mide el tiempo que lleva multiplicar dos vectores con 1 millón de elementos. Ahora haga lo mismo con la biblioteca Numpy y mida el tiempo nuevamente. <br>"
   ]
  },
  {
   "cell_type": "code",
   "execution_count": null,
   "metadata": {},
   "outputs": [],
   "source": []
  },
  {
   "cell_type": "markdown",
   "metadata": {},
   "source": [
    "<b> 4f) </b> Repita las tareas 3b, 3c, 3d pero esta vez usando la biblioteca Pandas <br>"
   ]
  },
  {
   "cell_type": "code",
   "execution_count": null,
   "metadata": {},
   "outputs": [],
   "source": [
    "import pandas as pd"
   ]
  }
 ],
 "metadata": {
  "kernelspec": {
   "display_name": "Python 3",
   "language": "python",
   "name": "python3"
  },
  "language_info": {
   "codemirror_mode": {
    "name": "ipython",
    "version": 3
   },
   "file_extension": ".py",
   "mimetype": "text/x-python",
   "name": "python",
   "nbconvert_exporter": "python",
   "pygments_lexer": "ipython3",
   "version": "3.7.3"
  }
 },
 "nbformat": 4,
 "nbformat_minor": 2
}
