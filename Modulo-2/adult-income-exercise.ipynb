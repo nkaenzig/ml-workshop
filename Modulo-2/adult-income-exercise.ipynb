{
 "cells": [
  {
   "cell_type": "markdown",
   "metadata": {},
   "source": [
    "\n",
    "# Machine Learning Workshop"
   ]
  },
  {
   "cell_type": "markdown",
   "metadata": {},
   "source": [
    "## Analisis exploratorio de datos\n",
    "Dataset source: <br>\n",
    "https://www.kaggle.com/wenruliu/adult-income-dataset/ <br>\n",
    "https://archive.ics.uci.edu/ml/datasets/census+income"
   ]
  },
  {
   "cell_type": "code",
   "execution_count": null,
   "metadata": {},
   "outputs": [],
   "source": [
    "import pandas as pd\n",
    "import missingno\n",
    "from sklearn.metrics import mutual_info_score\n",
    "import matplotlib.pyplot as plt\n",
    "import seaborn as sns\n",
    "sns.set(style=\"ticks\", color_codes=True)\n",
    "\n",
    "# | remove max column restriction for printing DataFrames (default=20)\n",
    "pd.options.display.max_columns = None "
   ]
  },
  {
   "cell_type": "markdown",
   "metadata": {},
   "source": [
    "### 1. Cleaning"
   ]
  },
  {
   "cell_type": "markdown",
   "metadata": {},
   "source": [
    "<b> 1a) </b> Lea el archivo CSV <i> adult.csv </i> con pandas y guárdelo en un DataFrame. (<i>Hint: Usa el argumento <code>sep</code> de read_csv() https://pandas.pydata.org/pandas-docs/stable/reference/api/pandas.read_csv.html</i>)"
   ]
  },
  {
   "cell_type": "code",
   "execution_count": null,
   "metadata": {},
   "outputs": [],
   "source": [
    "data_path = '../Datasets/adult-incomes.csv'"
   ]
  },
  {
   "cell_type": "markdown",
   "metadata": {},
   "source": [
    "#### NaN values "
   ]
  },
  {
   "cell_type": "markdown",
   "metadata": {},
   "source": [
    "<b> 1c) </b> Hay valores faltantes en el dataset? (Hint: df.count())"
   ]
  },
  {
   "cell_type": "code",
   "execution_count": null,
   "metadata": {},
   "outputs": [],
   "source": []
  },
  {
   "cell_type": "markdown",
   "metadata": {},
   "source": [
    "<b> 1d) </b> Si df.count() dio el mismo contado para todas las columnas, normalmente esto indica que no hay valores NaN en el DataFrame.\n",
    "Pero mirando bien los datos, se ve que hay filas con valores '?' que pandas no identificó como valores NaN.\n",
    "\n",
    "Lea el archivo otra vez, usando el argumento <code>na_values</code> de la funcion <code>pandas.read_csv()</code> y verifica despues si pandas identificó los valores faltantes. (https://pandas.pydata.org/pandas-docs/stable/reference/api/pandas.read_csv.html)"
   ]
  },
  {
   "cell_type": "code",
   "execution_count": null,
   "metadata": {},
   "outputs": [],
   "source": []
  },
  {
   "cell_type": "markdown",
   "metadata": {},
   "source": [
    "<b> 1e) </b> Donde (en cual columnas / filas) se ubican los valores faltantes? (<i>Hint: usa la librería \"missingno\" para hacer una visualización</i>)"
   ]
  },
  {
   "cell_type": "markdown",
   "metadata": {},
   "source": [
    "<b> 1f) </b> Donde (en cual columnas / filas) se ubican los valores faltantes? (<i>Hint: usa la librería \"missingno\" para hacer una visualización</i>)"
   ]
  },
  {
   "cell_type": "code",
   "execution_count": null,
   "metadata": {},
   "outputs": [],
   "source": []
  },
  {
   "cell_type": "markdown",
   "metadata": {},
   "source": [
    "<b> 1g) </b> Elimina todas las filas que tienen minimo un valor que hace falta. Cuantas filas se perdieron (numero absuloto & porcentaje)?<br> (<i>Hint: Numero total de filas:</i> <code>len(df)</code>)"
   ]
  },
  {
   "cell_type": "code",
   "execution_count": null,
   "metadata": {},
   "outputs": [],
   "source": []
  },
  {
   "cell_type": "markdown",
   "metadata": {},
   "source": [
    "#### Duplicados"
   ]
  },
  {
   "cell_type": "markdown",
   "metadata": {},
   "source": [
    "<b> 1h) </b> Hay filas duplicadas en el dataset? Cuantos? Eliminala todos los duplicados! (<i>Hint: </i> <code>DataFrame.drop_duplicates()</code> https://pandas.pydata.org/pandas-docs/stable/reference/api/pandas.DataFrame.drop_duplicates.html)"
   ]
  },
  {
   "cell_type": "code",
   "execution_count": null,
   "metadata": {},
   "outputs": [],
   "source": []
  },
  {
   "cell_type": "markdown",
   "metadata": {},
   "source": [
    "#### Columnas numericas y categoricas"
   ]
  },
  {
   "cell_type": "markdown",
   "metadata": {},
   "source": [
    "<b> 1i) </b> Cuales de los columnas son numericas y cuales son categoricas? (<i>Hint: </i> <code>df.dtypes</code>)"
   ]
  },
  {
   "cell_type": "code",
   "execution_count": null,
   "metadata": {},
   "outputs": [],
   "source": []
  },
  {
   "cell_type": "markdown",
   "metadata": {},
   "source": [
    "<b> 1j) </b> Separa las columnas numericas y categoricas y guardalas en dos nuevos DataFrames <code>df_num, df_cat</code> (<i>Hint: </i> <code>DataFrame.select_dtypes()</code>)"
   ]
  },
  {
   "cell_type": "code",
   "execution_count": null,
   "metadata": {},
   "outputs": [],
   "source": []
  },
  {
   "cell_type": "markdown",
   "metadata": {},
   "source": [
    "### 2. Análisis & Visualización"
   ]
  },
  {
   "cell_type": "markdown",
   "metadata": {},
   "source": [
    "#### Columnas numericas - distribuciónes & correlación"
   ]
  },
  {
   "cell_type": "markdown",
   "metadata": {},
   "source": [
    "<b> 2a) </b> Visualiza las distribuciónes (histogramos) de las columnas numericas, y sus correlaciónes (scatter plots), usando seaborn<br> (<i>Hint: </i> <code>sns.pairplot()</code> https://seaborn.pydata.org/generated/seaborn.pairplot.html)"
   ]
  },
  {
   "cell_type": "code",
   "execution_count": null,
   "metadata": {},
   "outputs": [],
   "source": []
  },
  {
   "cell_type": "markdown",
   "metadata": {},
   "source": [
    "<b> 2b) </b> Puedes identificar columnas que tienen una correlación alta?"
   ]
  },
  {
   "cell_type": "markdown",
   "metadata": {},
   "source": []
  },
  {
   "cell_type": "markdown",
   "metadata": {},
   "source": [
    "<b> 2b) </b> Analisa y describe las distribuciones (histogramos)"
   ]
  },
  {
   "cell_type": "markdown",
   "metadata": {},
   "source": []
  },
  {
   "cell_type": "markdown",
   "metadata": {},
   "source": [
    "#### Columnas categoricas"
   ]
  },
  {
   "cell_type": "markdown",
   "metadata": {},
   "source": [
    "<b> 2c) </b> Visualiza la correlacion entre las columnas \"age\" y \"income\". Nota que \"age\" es una columna numerica, y \"income\" una columna categorica<br>\n",
    "(Hint: Usa seaborn: <code>sns.boxplot(x=..., y=..., data=df)</code> https://seaborn.pydata.org/generated/seaborn.boxplot.html)"
   ]
  },
  {
   "cell_type": "code",
   "execution_count": null,
   "metadata": {},
   "outputs": [],
   "source": []
  },
  {
   "cell_type": "markdown",
   "metadata": {},
   "source": [
    "<b> 2d) </b> Visualiza la distribucion de la columna \"race\". Que puedes observar? (Hint: <code>sns.countplot(x=..., data=...)</code> https://seaborn.pydata.org/generated/seaborn.countplot.html)"
   ]
  },
  {
   "cell_type": "code",
   "execution_count": null,
   "metadata": {},
   "outputs": [],
   "source": []
  },
  {
   "cell_type": "markdown",
   "metadata": {},
   "source": [
    "Observaciones:\n"
   ]
  },
  {
   "cell_type": "markdown",
   "metadata": {},
   "source": [
    "<b> 2e) </b> Calcula el porcentaje de personas blancos ('race' == 'White') que ganan menos que 50K anual, y el porcentaje de personas negras('race' == 'Black') que ganan menos que 50K<br>\n",
    "\n",
    "Hint:\n",
    "<code>\n",
    "df.loc[(df['income'] == \"<=50K\") & (df['race'] == \"Black\"), 'race']\n",
    "</code>"
   ]
  },
  {
   "cell_type": "code",
   "execution_count": null,
   "metadata": {},
   "outputs": [],
   "source": []
  },
  {
   "cell_type": "markdown",
   "metadata": {},
   "source": [
    "### 3. Machine Learning\n",
    "Task: Predecir si el ingreso de una persona excede $ 50K / año.<br>\n",
    "Columna con los labels: 'income'"
   ]
  },
  {
   "cell_type": "markdown",
   "metadata": {},
   "source": [
    "<b> 3a) </b> Recuerde, para entrenar un modelo de Machine Learning, necesitamos una tabula de solo numeros. <br> \n",
    "Convierte las categorias en las columnas categoricas a numeros (\"Enumeration\"). "
   ]
  },
  {
   "cell_type": "code",
   "execution_count": null,
   "metadata": {},
   "outputs": [],
   "source": []
  },
  {
   "cell_type": "markdown",
   "metadata": {},
   "source": [
    "<b> 3b) </b> Ahora concatene los dos DataFrames <code>df_cat, df_num</code> para obtener un solo DataFrame <code>df_all</code> para el entrenamiento del modelo.<br> (Hint: <code>pd.concat(..., axis=1)</code> https://pandas.pydata.org/pandas-docs/stable/reference/api/pandas.concat.html)"
   ]
  },
  {
   "cell_type": "code",
   "execution_count": null,
   "metadata": {},
   "outputs": [],
   "source": []
  },
  {
   "cell_type": "markdown",
   "metadata": {},
   "source": [
    "<b> 3c) </b> Usa el siguiente codigo para entrenar un modelo de Machine Learning. El modelo que usamos se llama Random Forest (Vamos a mirar como funciona en el siguiente modulo)"
   ]
  },
  {
   "cell_type": "code",
   "execution_count": null,
   "metadata": {},
   "outputs": [],
   "source": [
    "# | split data into features (x) & labels (y)\n",
    "x = df_all.drop('income', axis=1).values\n",
    "y = df_all['income'].values\n",
    "\n",
    "# | split data into training & test set\n",
    "from sklearn.model_selection import train_test_split\n",
    "x_train, x_test, y_train, y_test = train_test_split(x, y, test_size=0.2, random_state=0)\n",
    "\n",
    "# | train the model\n",
    "from sklearn.ensemble import RandomForestClassifier\n",
    "model = RandomForestClassifier(max_depth=30, n_estimators=100,random_state=0)\n",
    "model.fit(x_train, y_train)"
   ]
  },
  {
   "cell_type": "markdown",
   "metadata": {},
   "source": [
    "<b> 3d) </b> Ahora nuestro modelo esta entrenado y guardado en la variable <code>model</code>. Usa la funcion <code>model.predict()</code> para calcular las predicciones en el test-set <code>x_test</code> y calcula el porcentaje de las predicciones que son correctas"
   ]
  },
  {
   "cell_type": "code",
   "execution_count": null,
   "metadata": {},
   "outputs": [],
   "source": []
  }
 ],
 "metadata": {
  "kernelspec": {
   "display_name": "Python 3",
   "language": "python",
   "name": "python3"
  },
  "language_info": {
   "codemirror_mode": {
    "name": "ipython",
    "version": 3
   },
   "file_extension": ".py",
   "mimetype": "text/x-python",
   "name": "python",
   "nbconvert_exporter": "python",
   "pygments_lexer": "ipython3",
   "version": "3.7.3"
  }
 },
 "nbformat": 4,
 "nbformat_minor": 2
}
